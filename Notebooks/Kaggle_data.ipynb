{
 "cells": [
  {
   "cell_type": "code",
   "execution_count": 1,
   "id": "e8ec6b84-c1f0-4166-a69c-78cdeb3a4354",
   "metadata": {},
   "outputs": [],
   "source": [
    "import pandas as pd"
   ]
  },
  {
   "cell_type": "code",
   "execution_count": 2,
   "id": "c7b227bb-1ee2-4b0c-bdd5-cefc07f1bf4d",
   "metadata": {},
   "outputs": [],
   "source": [
    "df = pd.read_csv('data/kickstarter_data_full.csv', low_memory=False).drop(columns=['Unnamed: 0'])"
   ]
  },
  {
   "cell_type": "code",
   "execution_count": 3,
   "id": "a14c7c8a-eb4d-4789-aa79-899c19f89cd9",
   "metadata": {},
   "outputs": [],
   "source": [
    "df = df.loc[(df['state']=='successful') | (df['state']=='failed')]"
   ]
  },
  {
   "cell_type": "code",
   "execution_count": 4,
   "id": "fd5d720c-1eb9-4010-b07b-caac0e268f6f",
   "metadata": {},
   "outputs": [],
   "source": [
    "columns = ['blurb', 'category', 'country', 'currency', 'goal', 'name', 'state']\n",
    "df = df[columns].copy()"
   ]
  },
  {
   "cell_type": "code",
   "execution_count": 5,
   "id": "5c50fda2-00e7-4722-8395-843835bf8645",
   "metadata": {
    "tags": []
   },
   "outputs": [
    {
     "data": {
      "text/html": [
       "<div>\n",
       "<style scoped>\n",
       "    .dataframe tbody tr th:only-of-type {\n",
       "        vertical-align: middle;\n",
       "    }\n",
       "\n",
       "    .dataframe tbody tr th {\n",
       "        vertical-align: top;\n",
       "    }\n",
       "\n",
       "    .dataframe thead th {\n",
       "        text-align: right;\n",
       "    }\n",
       "</style>\n",
       "<table border=\"1\" class=\"dataframe\">\n",
       "  <thead>\n",
       "    <tr style=\"text-align: right;\">\n",
       "      <th></th>\n",
       "      <th>blurb</th>\n",
       "      <th>category</th>\n",
       "      <th>country</th>\n",
       "      <th>currency</th>\n",
       "      <th>goal</th>\n",
       "      <th>name</th>\n",
       "      <th>state</th>\n",
       "    </tr>\n",
       "  </thead>\n",
       "  <tbody>\n",
       "    <tr>\n",
       "      <th>0</th>\n",
       "      <td>MTS ASL Curriculum Workbook is a reproducible ...</td>\n",
       "      <td>Academic</td>\n",
       "      <td>US</td>\n",
       "      <td>USD</td>\n",
       "      <td>1500.0</td>\n",
       "      <td>Auntie Di's Music Time Sign ASL for Hearing an...</td>\n",
       "      <td>failed</td>\n",
       "    </tr>\n",
       "    <tr>\n",
       "      <th>1</th>\n",
       "      <td>This kit teaches how to print, correct an ugly...</td>\n",
       "      <td>Academic</td>\n",
       "      <td>US</td>\n",
       "      <td>USD</td>\n",
       "      <td>500.0</td>\n",
       "      <td>Jump Start Kindergarten Toolkit</td>\n",
       "      <td>failed</td>\n",
       "    </tr>\n",
       "    <tr>\n",
       "      <th>2</th>\n",
       "      <td>Establishing a free, world-class, public libra...</td>\n",
       "      <td>Academic</td>\n",
       "      <td>US</td>\n",
       "      <td>USD</td>\n",
       "      <td>100000.0</td>\n",
       "      <td>Ojukwu Balewa Awolowo (O.B.A.) Public Library ...</td>\n",
       "      <td>failed</td>\n",
       "    </tr>\n",
       "    <tr>\n",
       "      <th>3</th>\n",
       "      <td>Goal: Introducing a new word into the English ...</td>\n",
       "      <td>Academic</td>\n",
       "      <td>US</td>\n",
       "      <td>USD</td>\n",
       "      <td>5000.0</td>\n",
       "      <td>MASTIZE - [mas-TAHYZ, MAS-tahyz]  - to spread</td>\n",
       "      <td>failed</td>\n",
       "    </tr>\n",
       "    <tr>\n",
       "      <th>4</th>\n",
       "      <td>Zu den Artikeln der DSGVO sind die korrespondi...</td>\n",
       "      <td>Academic</td>\n",
       "      <td>DE</td>\n",
       "      <td>EUR</td>\n",
       "      <td>3222.0</td>\n",
       "      <td>Synopse der EU-DSGVO - Artikel, Erwägungsgründ...</td>\n",
       "      <td>failed</td>\n",
       "    </tr>\n",
       "  </tbody>\n",
       "</table>\n",
       "</div>"
      ],
      "text/plain": [
       "                                               blurb  category country  \\\n",
       "0  MTS ASL Curriculum Workbook is a reproducible ...  Academic      US   \n",
       "1  This kit teaches how to print, correct an ugly...  Academic      US   \n",
       "2  Establishing a free, world-class, public libra...  Academic      US   \n",
       "3  Goal: Introducing a new word into the English ...  Academic      US   \n",
       "4  Zu den Artikeln der DSGVO sind die korrespondi...  Academic      DE   \n",
       "\n",
       "  currency      goal                                               name  \\\n",
       "0      USD    1500.0  Auntie Di's Music Time Sign ASL for Hearing an...   \n",
       "1      USD     500.0                    Jump Start Kindergarten Toolkit   \n",
       "2      USD  100000.0  Ojukwu Balewa Awolowo (O.B.A.) Public Library ...   \n",
       "3      USD    5000.0      MASTIZE - [mas-TAHYZ, MAS-tahyz]  - to spread   \n",
       "4      EUR    3222.0  Synopse der EU-DSGVO - Artikel, Erwägungsgründ...   \n",
       "\n",
       "    state  \n",
       "0  failed  \n",
       "1  failed  \n",
       "2  failed  \n",
       "3  failed  \n",
       "4  failed  "
      ]
     },
     "execution_count": 5,
     "metadata": {},
     "output_type": "execute_result"
    }
   ],
   "source": [
    "df.head()"
   ]
  }
 ],
 "metadata": {
  "kernelspec": {
   "display_name": "ML",
   "language": "python",
   "name": "ml"
  },
  "language_info": {
   "codemirror_mode": {
    "name": "ipython",
    "version": 3
   },
   "file_extension": ".py",
   "mimetype": "text/x-python",
   "name": "python",
   "nbconvert_exporter": "python",
   "pygments_lexer": "ipython3",
   "version": "3.7.11"
  }
 },
 "nbformat": 4,
 "nbformat_minor": 5
}
